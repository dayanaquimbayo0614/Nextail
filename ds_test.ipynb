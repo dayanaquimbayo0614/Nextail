{
 "cells": [
  {
   "cell_type": "code",
   "execution_count": 1,
   "metadata": {},
   "outputs": [],
   "source": [
    "#! pip install pmdarima"
   ]
  },
  {
   "cell_type": "code",
   "execution_count": 1,
   "metadata": {},
   "outputs": [],
   "source": [
    "import pandas as pd\n",
    "from numpy import log\n",
    "import datetime as dt\n",
    "from datetime import datetime,timedelta\n",
    "import matplotlib.pyplot as plt\n",
    "from pandas.plotting import autocorrelation_plot\n",
    "from statsmodels.tsa.arima.model import ARIMA\n",
    "from statsmodels.tsa.stattools import adfuller\n",
    "from pmdarima.arima import auto_arima\n",
    "from sklearn.metrics import r2_score"
   ]
  },
  {
   "cell_type": "markdown",
   "metadata": {},
   "source": [
    "### Current Code:"
   ]
  },
  {
   "cell_type": "code",
   "execution_count": 2,
   "metadata": {},
   "outputs": [],
   "source": [
    "def forecast_sales(start_date: datetime, end_date: datetime, sales_data: pd.DataFrame):\n",
    "    \n",
    "    days_to_forecast = (end_date - start_date).days\n",
    "    mean_daily_sales = sales_data[sales_data['date'] < start_date]['sales'].mean()\n",
    "    return mean_daily_sales * days_to_forecast"
   ]
  },
  {
   "cell_type": "code",
   "execution_count": 3,
   "metadata": {},
   "outputs": [],
   "source": [
    "def calculate_new_order (order_date: datetime, lead_time_days: int, days_to_next_order: int, \n",
    "                         sales_data: pd.DataFrame, current_stock_level: int, stock_in_transit: int):\n",
    "    \n",
    "    arrival_date = order_date + timedelta(days=lead_time_days)\n",
    "    next_arrival_date = order_date + timedelta(days=days_to_next_order + lead_time_days)\n",
    "    \n",
    "    forecast_leadtime = forecast_sales(order_date, arrival_date, sales_data)\n",
    "    estimated_stock_at_arrival = current_stock_level - forecast_leadtime + stock_in_transit \n",
    "    \n",
    "    forecast_planning_horizon = forecast_sales(arrival_date,next_arrival_date, sales_data)\n",
    "    order = max(0,forecast_planning_horizon - estimated_stock_at_arrival)\n",
    "    return order"
   ]
  },
  {
   "cell_type": "markdown",
   "metadata": {},
   "source": [
    "### Calculate Reordering\n"
   ]
  },
  {
   "cell_type": "code",
   "execution_count": 4,
   "metadata": {},
   "outputs": [],
   "source": [
    "order_date = datetime(2020,6,1)\n",
    "lead_time_days = 90\n",
    "days_to_next_order = 30\n",
    "current_stock_level = 400\n",
    "stock_in_transit = 600"
   ]
  },
  {
   "cell_type": "code",
   "execution_count": 5,
   "metadata": {},
   "outputs": [],
   "source": [
    "sales_data = pd.read_csv('sales_data.csv',parse_dates=['date'])"
   ]
  },
  {
   "cell_type": "code",
   "execution_count": 6,
   "metadata": {},
   "outputs": [
    {
     "data": {
      "text/plain": [
       "186.0598684820378"
      ]
     },
     "execution_count": 6,
     "metadata": {},
     "output_type": "execute_result"
    }
   ],
   "source": [
    "calculate_new_order (order_date=order_date, \n",
    "                   lead_time_days=lead_time_days, \n",
    "                   days_to_next_order=days_to_next_order, \n",
    "                   sales_data=sales_data, \n",
    "                   current_stock_level=current_stock_level, \n",
    "                   stock_in_transit=stock_in_transit)\n"
   ]
  },
  {
   "cell_type": "markdown",
   "metadata": {},
   "source": [
    "## Exploratory Data Analysis "
   ]
  },
  {
   "cell_type": "code",
   "execution_count": 7,
   "metadata": {},
   "outputs": [
    {
     "data": {
      "text/html": [
       "<div>\n",
       "<style scoped>\n",
       "    .dataframe tbody tr th:only-of-type {\n",
       "        vertical-align: middle;\n",
       "    }\n",
       "\n",
       "    .dataframe tbody tr th {\n",
       "        vertical-align: top;\n",
       "    }\n",
       "\n",
       "    .dataframe thead th {\n",
       "        text-align: right;\n",
       "    }\n",
       "</style>\n",
       "<table border=\"1\" class=\"dataframe\">\n",
       "  <thead>\n",
       "    <tr style=\"text-align: right;\">\n",
       "      <th></th>\n",
       "      <th>sales</th>\n",
       "    </tr>\n",
       "    <tr>\n",
       "      <th>date</th>\n",
       "      <th></th>\n",
       "    </tr>\n",
       "  </thead>\n",
       "  <tbody>\n",
       "    <tr>\n",
       "      <th>2016-06-01</th>\n",
       "      <td>12</td>\n",
       "    </tr>\n",
       "    <tr>\n",
       "      <th>2016-06-02</th>\n",
       "      <td>22</td>\n",
       "    </tr>\n",
       "    <tr>\n",
       "      <th>2016-06-03</th>\n",
       "      <td>19</td>\n",
       "    </tr>\n",
       "    <tr>\n",
       "      <th>2016-06-04</th>\n",
       "      <td>20</td>\n",
       "    </tr>\n",
       "    <tr>\n",
       "      <th>2016-06-05</th>\n",
       "      <td>5</td>\n",
       "    </tr>\n",
       "  </tbody>\n",
       "</table>\n",
       "</div>"
      ],
      "text/plain": [
       "            sales\n",
       "date             \n",
       "2016-06-01     12\n",
       "2016-06-02     22\n",
       "2016-06-03     19\n",
       "2016-06-04     20\n",
       "2016-06-05      5"
      ]
     },
     "execution_count": 7,
     "metadata": {},
     "output_type": "execute_result"
    }
   ],
   "source": [
    "sales_data = sales_data.set_index(keys = 'date')\n",
    "sales_data.head()"
   ]
  },
  {
   "cell_type": "code",
   "execution_count": 8,
   "metadata": {},
   "outputs": [
    {
     "data": {
      "image/png": "[encoded data removed]",
      "text/plain": [
       "<Figure size 432x288 with 1 Axes>"
      ]
     },
     "metadata": {
      "needs_background": "light"
     },
     "output_type": "display_data"
    }
   ],
   "source": [
    "sales_data.plot()\n",
    "plt.show()"
   ]
  },
  {
   "cell_type": "markdown",
   "metadata": {},
   "source": [
    "We can observe that there is a seasonality associated with the data"
   ]
  },
  {
   "cell_type": "markdown",
   "metadata": {},
   "source": [
    "### Dickey-Fuller Test"
   ]
  },
  {
   "cell_type": "code",
   "execution_count": 9,
   "metadata": {},
   "outputs": [
    {
     "name": "stdout",
     "output_type": "stream",
     "text": [
      "ADF Statistic: -5.626367\n",
      "p-value: 0.000001\n",
      "Critical Values:\n",
      "\t1%: -3.435\n",
      "\t5%: -2.864\n",
      "\t10%: -2.568\n"
     ]
    }
   ],
   "source": [
    "X = sales_data.sales\n",
    "result = adfuller(X)\n",
    "print('ADF Statistic: %f' % result[0])\n",
    "print('p-value: %f' % result[1])\n",
    "print('Critical Values:')\n",
    "for key, value in result[4].items():\n",
    "    print('\\t%s: %.3f' % (key, value))"
   ]
  },
  {
   "cell_type": "markdown",
   "metadata": {},
   "source": [
    "Rejecting the null hypothesis means that the process has no unit root, and in turn that the time series is stationary or does not have time-dependent structure."
   ]
  },
  {
   "cell_type": "markdown",
   "metadata": {},
   "source": [
    "### Autocorrelation"
   ]
  },
  {
   "cell_type": "code",
   "execution_count": 10,
   "metadata": {},
   "outputs": [
    {
     "data": {
      "image/png": "[encoded data removed]",
      "text/plain": [
       "<Figure size 432x288 with 1 Axes>"
      ]
     },
     "metadata": {
      "needs_background": "light"
     },
     "output_type": "display_data"
    }
   ],
   "source": [
    "autocorrelation_plot(sales_data)\n",
    "plt.show()"
   ]
  },
  {
   "cell_type": "markdown",
   "metadata": {},
   "source": [
    "# MODELO ARIMA"
   ]
  },
  {
   "cell_type": "markdown",
   "metadata": {},
   "source": [
    "### TRAIN - TEST"
   ]
  },
  {
   "cell_type": "code",
   "execution_count": 11,
   "metadata": {},
   "outputs": [],
   "source": [
    "date0 = datetime(2020, 2, 1)\n",
    "date1 = datetime(2020, 5, 1)"
   ]
  },
  {
   "cell_type": "code",
   "execution_count": 12,
   "metadata": {},
   "outputs": [
    {
     "data": {
      "text/plain": [
       "[<matplotlib.lines.Line2D at 0x182eaf495c8>]"
      ]
     },
     "execution_count": 12,
     "metadata": {},
     "output_type": "execute_result"
    },
    {
     "data": {
      "image/png": "[encoded data removed]",
      "text/plain": [
       "<Figure size 432x288 with 1 Axes>"
      ]
     },
     "metadata": {
      "needs_background": "light"
     },
     "output_type": "display_data"
    }
   ],
   "source": [
    "train = sales_data[(date0 <= sales_data.index) & (sales_data.index < date1)]\n",
    "test = sales_data[date1 <= sales_data.index]\n",
    "plt.plot(train)\n",
    "plt.plot(test)"
   ]
  },
  {
   "cell_type": "markdown",
   "metadata": {},
   "source": [
    "### Definición Modelo ARIMA"
   ]
  },
  {
   "cell_type": "code",
   "execution_count": 13,
   "metadata": {},
   "outputs": [],
   "source": [
    "stepwise_model = auto_arima(train, start_p=1, start_q=1,\n",
    "                           max_p=3, max_q=3, m=12,\n",
    "                           start_P=0, seasonal=True,\n",
    "                           d=1, D=1,\n",
    "                           error_action='ignore',  \n",
    "                           suppress_warnings=True, \n",
    "                           stepwise=True)\n"
   ]
  },
  {
   "cell_type": "code",
   "execution_count": 14,
   "metadata": {},
   "outputs": [
    {
     "data": {
      "text/html": [
       "<table class=\"simpletable\">\n",
       "<caption>SARIMAX Results</caption>\n",
       "<tr>\n",
       "  <th>Dep. Variable:</th>                  <td>y</td>                <th>  No. Observations:  </th>    <td>90</td>   \n",
       "</tr>\n",
       "<tr>\n",
       "  <th>Model:</th>           <td>SARIMAX(3, 1, 1)x(2, 1, [], 12)</td> <th>  Log Likelihood     </th> <td>-234.312</td>\n",
       "</tr>\n",
       "<tr>\n",
       "  <th>Date:</th>                   <td>Sat, 06 Feb 2021</td>         <th>  AIC                </th>  <td>482.624</td>\n",
       "</tr>\n",
       "<tr>\n",
       "  <th>Time:</th>                       <td>21:24:12</td>             <th>  BIC                </th>  <td>499.031</td>\n",
       "</tr>\n",
       "<tr>\n",
       "  <th>Sample:</th>                         <td>0</td>                <th>  HQIC               </th>  <td>489.187</td>\n",
       "</tr>\n",
       "<tr>\n",
       "  <th></th>                              <td> - 90</td>              <th>                     </th>     <td> </td>   \n",
       "</tr>\n",
       "<tr>\n",
       "  <th>Covariance Type:</th>               <td>opg</td>               <th>                     </th>     <td> </td>   \n",
       "</tr>\n",
       "</table>\n",
       "<table class=\"simpletable\">\n",
       "<tr>\n",
       "      <td></td>        <th>coef</th>     <th>std err</th>      <th>z</th>      <th>P>|z|</th>  <th>[0.025</th>    <th>0.975]</th>  \n",
       "</tr>\n",
       "<tr>\n",
       "  <th>ar.L1</th>    <td>    0.0967</td> <td>    0.149</td> <td>    0.647</td> <td> 0.518</td> <td>   -0.196</td> <td>    0.390</td>\n",
       "</tr>\n",
       "<tr>\n",
       "  <th>ar.L2</th>    <td>   -0.1479</td> <td>    0.114</td> <td>   -1.295</td> <td> 0.195</td> <td>   -0.372</td> <td>    0.076</td>\n",
       "</tr>\n",
       "<tr>\n",
       "  <th>ar.L3</th>    <td>   -0.1645</td> <td>    0.144</td> <td>   -1.139</td> <td> 0.255</td> <td>   -0.447</td> <td>    0.118</td>\n",
       "</tr>\n",
       "<tr>\n",
       "  <th>ma.L1</th>    <td>   -0.9748</td> <td>    0.096</td> <td>  -10.102</td> <td> 0.000</td> <td>   -1.164</td> <td>   -0.786</td>\n",
       "</tr>\n",
       "<tr>\n",
       "  <th>ar.S.L12</th> <td>   -0.8634</td> <td>    0.147</td> <td>   -5.854</td> <td> 0.000</td> <td>   -1.152</td> <td>   -0.574</td>\n",
       "</tr>\n",
       "<tr>\n",
       "  <th>ar.S.L24</th> <td>   -0.3674</td> <td>    0.137</td> <td>   -2.673</td> <td> 0.008</td> <td>   -0.637</td> <td>   -0.098</td>\n",
       "</tr>\n",
       "<tr>\n",
       "  <th>sigma2</th>   <td>   21.3924</td> <td>    4.566</td> <td>    4.685</td> <td> 0.000</td> <td>   12.444</td> <td>   30.341</td>\n",
       "</tr>\n",
       "</table>\n",
       "<table class=\"simpletable\">\n",
       "<tr>\n",
       "  <th>Ljung-Box (Q):</th>          <td>132.61</td> <th>  Jarque-Bera (JB):  </th> <td>0.44</td> \n",
       "</tr>\n",
       "<tr>\n",
       "  <th>Prob(Q):</th>                 <td>0.00</td>  <th>  Prob(JB):          </th> <td>0.80</td> \n",
       "</tr>\n",
       "<tr>\n",
       "  <th>Heteroskedasticity (H):</th>  <td>0.71</td>  <th>  Skew:              </th> <td>-0.06</td>\n",
       "</tr>\n",
       "<tr>\n",
       "  <th>Prob(H) (two-sided):</th>     <td>0.38</td>  <th>  Kurtosis:          </th> <td>2.65</td> \n",
       "</tr>\n",
       "</table><br/><br/>Warnings:<br/>[1] Covariance matrix calculated using the outer product of gradients (complex-step)."
      ],
      "text/plain": [
       "<class 'statsmodels.iolib.summary.Summary'>\n",
       "\"\"\"\n",
       "                                      SARIMAX Results                                      \n",
       "===========================================================================================\n",
       "Dep. Variable:                                   y   No. Observations:                   90\n",
       "Model:             SARIMAX(3, 1, 1)x(2, 1, [], 12)   Log Likelihood                -234.312\n",
       "Date:                             Sat, 06 Feb 2021   AIC                            482.624\n",
       "Time:                                     21:24:12   BIC                            499.031\n",
       "Sample:                                          0   HQIC                           489.187\n",
       "                                              - 90                                         \n",
       "Covariance Type:                               opg                                         \n",
       "==============================================================================\n",
       "                 coef    std err          z      P>|z|      [0.025      0.975]\n",
       "------------------------------------------------------------------------------\n",
       "ar.L1          0.0967      0.149      0.647      0.518      -0.196       0.390\n",
       "ar.L2         -0.1479      0.114     -1.295      0.195      -0.372       0.076\n",
       "ar.L3         -0.1645      0.144     -1.139      0.255      -0.447       0.118\n",
       "ma.L1         -0.9748      0.096    -10.102      0.000      -1.164      -0.786\n",
       "ar.S.L12      -0.8634      0.147     -5.854      0.000      -1.152      -0.574\n",
       "ar.S.L24      -0.3674      0.137     -2.673      0.008      -0.637      -0.098\n",
       "sigma2        21.3924      4.566      4.685      0.000      12.444      30.341\n",
       "===================================================================================\n",
       "Ljung-Box (Q):                      132.61   Jarque-Bera (JB):                 0.44\n",
       "Prob(Q):                              0.00   Prob(JB):                         0.80\n",
       "Heteroskedasticity (H):               0.71   Skew:                            -0.06\n",
       "Prob(H) (two-sided):                  0.38   Kurtosis:                         2.65\n",
       "===================================================================================\n",
       "\n",
       "Warnings:\n",
       "[1] Covariance matrix calculated using the outer product of gradients (complex-step).\n",
       "\"\"\""
      ]
     },
     "execution_count": 14,
     "metadata": {},
     "output_type": "execute_result"
    }
   ],
   "source": [
    "stepwise_model.summary()"
   ]
  },
  {
   "cell_type": "markdown",
   "metadata": {},
   "source": [
    "### Predict"
   ]
  },
  {
   "cell_type": "code",
   "execution_count": 15,
   "metadata": {},
   "outputs": [],
   "source": [
    "prediction = pd.DataFrame(stepwise_model.predict(n_periods = test.shape[0]), index = test.index, columns = ['predicted'])"
   ]
  },
  {
   "cell_type": "code",
   "execution_count": 16,
   "metadata": {},
   "outputs": [
    {
     "name": "stderr",
     "output_type": "stream",
     "text": [
      "C:\\Users\\dayan\\anaconda3\\lib\\site-packages\\ipykernel_launcher.py:5: MatplotlibDeprecationWarning: Unrecognized location 'Left corner'. Falling back on 'best'; valid locations are\n",
      "\tbest\n",
      "\tupper right\n",
      "\tupper left\n",
      "\tlower left\n",
      "\tlower right\n",
      "\tright\n",
      "\tcenter left\n",
      "\tcenter right\n",
      "\tlower center\n",
      "\tupper center\n",
      "\tcenter\n",
      "This will raise an exception in 3.3.\n",
      "  \"\"\"\n"
     ]
    },
    {
     "data": {
      "image/png": "[encoded data removed]",
      "text/plain": [
       "<Figure size 576x360 with 1 Axes>"
      ]
     },
     "metadata": {
      "needs_background": "light"
     },
     "output_type": "display_data"
    }
   ],
   "source": [
    "plt.figure(figsize = (8,5))\n",
    "plt.plot(train, label = 'Training')\n",
    "plt.plot(test, label = 'Test')\n",
    "plt.plot(prediction, label = 'Predicted Values')\n",
    "plt.legend(loc = 'Left corner')\n",
    "plt.show()"
   ]
  },
  {
   "cell_type": "markdown",
   "metadata": {},
   "source": [
    "### Metric"
   ]
  },
  {
   "cell_type": "code",
   "execution_count": 17,
   "metadata": {
    "scrolled": true
   },
   "outputs": [
    {
     "name": "stderr",
     "output_type": "stream",
     "text": [
      "C:\\Users\\dayan\\anaconda3\\lib\\site-packages\\ipykernel_launcher.py:1: SettingWithCopyWarning: \n",
      "A value is trying to be set on a copy of a slice from a DataFrame.\n",
      "Try using .loc[row_indexer,col_indexer] = value instead\n",
      "\n",
      "See the caveats in the documentation: https://pandas.pydata.org/pandas-docs/stable/user_guide/indexing.html#returning-a-view-versus-a-copy\n",
      "  \"\"\"Entry point for launching an IPython kernel.\n"
     ]
    },
    {
     "data": {
      "text/plain": [
       "-0.34776534642046375"
      ]
     },
     "execution_count": 17,
     "metadata": {},
     "output_type": "execute_result"
    }
   ],
   "source": [
    "test['predicted_sales'] = prediction\n",
    "r2_score(test['sales'], test['predicted_sales'])"
   ]
  },
  {
   "cell_type": "markdown",
   "metadata": {},
   "source": [
    "# Comparing Results"
   ]
  },
  {
   "cell_type": "code",
   "execution_count": 18,
   "metadata": {},
   "outputs": [],
   "source": [
    "sales_data_orig = pd.read_csv('sales_data.csv',parse_dates=['date'])"
   ]
  },
  {
   "cell_type": "code",
   "execution_count": 31,
   "metadata": {},
   "outputs": [],
   "source": [
    "def comparing_results(start_date, end_date):\n",
    "    # Real Sales\n",
    "    real_sales = sales_data_orig[(start_date <= sales_data_orig.date) & (\n",
    "        sales_data_orig.date < end_date)]\n",
    "    # Predicted Sales\n",
    "    days_to_forecast = (end_date - sales_data_orig.date.max()).days\n",
    "    date_list = [sales_data_orig.date.max() + timedelta(days=x)\n",
    "                 for x in range(days_to_forecast)]\n",
    "    prediction_results = pd.DataFrame(stepwise_model.predict(\n",
    "        n_periods=days_to_forecast), index=date_list, columns=['predicted'])\n",
    "    prediction_results = prediction_results[(\n",
    "        start_date <= prediction_results.index) & (prediction_results.index < end_date)]\n",
    "    # Mean model Sales\n",
    "    mean_model = forecast_sales(start_date, end_date, sales_data_orig)\n",
    "    # Results\n",
    "    results = pd.DataFrame({'Real': real_sales.sales.sum(),\n",
    "                            'Predicted': prediction_results.predicted.sum(),\n",
    "                            'Mean_model': mean_model},\n",
    "                           columns=['Real', 'Predicted', 'Mean_model'],\n",
    "                           index=[start_date])\n",
    "    if start_date >= datetime(2020, 6, 1):\n",
    "        results = results[['Predicted', 'Mean_model']]\n",
    "    return results"
   ]
  },
  {
   "cell_type": "markdown",
   "metadata": {},
   "source": [
    "### 1. Dates in DataFrame"
   ]
  },
  {
   "cell_type": "code",
   "execution_count": 36,
   "metadata": {},
   "outputs": [
    {
     "data": {
      "text/html": [
       "<div>\n",
       "<style scoped>\n",
       "    .dataframe tbody tr th:only-of-type {\n",
       "        vertical-align: middle;\n",
       "    }\n",
       "\n",
       "    .dataframe tbody tr th {\n",
       "        vertical-align: top;\n",
       "    }\n",
       "\n",
       "    .dataframe thead th {\n",
       "        text-align: right;\n",
       "    }\n",
       "</style>\n",
       "<table border=\"1\" class=\"dataframe\">\n",
       "  <thead>\n",
       "    <tr style=\"text-align: right;\">\n",
       "      <th></th>\n",
       "      <th>Predicted</th>\n",
       "      <th>Mean_model</th>\n",
       "    </tr>\n",
       "  </thead>\n",
       "  <tbody>\n",
       "    <tr>\n",
       "      <th>2020-06-01</th>\n",
       "      <td>315.546315</td>\n",
       "      <td>296.50924</td>\n",
       "    </tr>\n",
       "  </tbody>\n",
       "</table>\n",
       "</div>"
      ],
      "text/plain": [
       "             Predicted  Mean_model\n",
       "2020-06-01  315.546315   296.50924"
      ]
     },
     "execution_count": 36,
     "metadata": {},
     "output_type": "execute_result"
    }
   ],
   "source": [
    "comparing_results(datetime(2020, 6, 1), datetime(2020, 7, 1))"
   ]
  },
  {
   "cell_type": "markdown",
   "metadata": {},
   "source": [
    "### 2. Dates example"
   ]
  },
  {
   "cell_type": "code",
   "execution_count": 37,
   "metadata": {},
   "outputs": [
    {
     "data": {
      "text/html": [
       "<div>\n",
       "<style scoped>\n",
       "    .dataframe tbody tr th:only-of-type {\n",
       "        vertical-align: middle;\n",
       "    }\n",
       "\n",
       "    .dataframe tbody tr th {\n",
       "        vertical-align: top;\n",
       "    }\n",
       "\n",
       "    .dataframe thead th {\n",
       "        text-align: right;\n",
       "    }\n",
       "</style>\n",
       "<table border=\"1\" class=\"dataframe\">\n",
       "  <thead>\n",
       "    <tr style=\"text-align: right;\">\n",
       "      <th></th>\n",
       "      <th>Predicted</th>\n",
       "      <th>Mean_model</th>\n",
       "    </tr>\n",
       "  </thead>\n",
       "  <tbody>\n",
       "    <tr>\n",
       "      <th>2020-07-01</th>\n",
       "      <td>370.803201</td>\n",
       "      <td>306.416553</td>\n",
       "    </tr>\n",
       "  </tbody>\n",
       "</table>\n",
       "</div>"
      ],
      "text/plain": [
       "             Predicted  Mean_model\n",
       "2020-07-01  370.803201  306.416553"
      ]
     },
     "execution_count": 37,
     "metadata": {},
     "output_type": "execute_result"
    }
   ],
   "source": [
    "comparing_results(datetime(2020, 7, 1), datetime(2020, 8, 1))"
   ]
  },
  {
   "cell_type": "markdown",
   "metadata": {},
   "source": [
    "### 3. Future Dates"
   ]
  },
  {
   "cell_type": "code",
   "execution_count": 35,
   "metadata": {},
   "outputs": [
    {
     "data": {
      "text/html": [
       "<div>\n",
       "<style scoped>\n",
       "    .dataframe tbody tr th:only-of-type {\n",
       "        vertical-align: middle;\n",
       "    }\n",
       "\n",
       "    .dataframe tbody tr th {\n",
       "        vertical-align: top;\n",
       "    }\n",
       "\n",
       "    .dataframe thead th {\n",
       "        text-align: right;\n",
       "    }\n",
       "</style>\n",
       "<table border=\"1\" class=\"dataframe\">\n",
       "  <thead>\n",
       "    <tr style=\"text-align: right;\">\n",
       "      <th></th>\n",
       "      <th>Predicted</th>\n",
       "      <th>Mean_model</th>\n",
       "    </tr>\n",
       "  </thead>\n",
       "  <tbody>\n",
       "    <tr>\n",
       "      <th>2020-08-01</th>\n",
       "      <td>410.109034</td>\n",
       "      <td>306.416553</td>\n",
       "    </tr>\n",
       "  </tbody>\n",
       "</table>\n",
       "</div>"
      ],
      "text/plain": [
       "             Predicted  Mean_model\n",
       "2020-08-01  410.109034  306.416553"
      ]
     },
     "execution_count": 35,
     "metadata": {},
     "output_type": "execute_result"
    }
   ],
   "source": [
    "comparing_results(datetime(2020,6,1), datetime(2020,10,1))\n",
    "comparing_results(datetime(2020,8,1), datetime(2020,9,1))"
   ]
  },
  {
   "cell_type": "code",
   "execution_count": 23,
   "metadata": {},
   "outputs": [],
   "source": [
    "def new_forcast_arima(date1, date2):\n",
    "    date0 = date1 - timedelta(days=(date2-date1).days*3)\n",
    "    train = sales_data[(date0 <= sales_data.index)\n",
    "               & (sales_data.index < date1)]\n",
    "    test = sales_data[(date1 <= sales_data.index)\n",
    "               & (sales_data.index < date2)]\n",
    "    model = auto_arima(train, start_p=1, start_q=1,\n",
    "                                max_p=3, max_q=3, m=12,\n",
    "                                start_P=0, seasonal=True,\n",
    "                                d=1, D=1,\n",
    "                                error_action='ignore',\n",
    "                                suppress_warnings=True,\n",
    "                                stepwise=True,\n",
    "                               return_valid_fits = False)\n",
    "    prediction = pd.DataFrame(model.predict(\n",
    "        n_periods=test.shape[0]), index=test.index, columns=['predicted'])\n",
    "    return prediction"
   ]
  },
  {
   "cell_type": "code",
   "execution_count": 24,
   "metadata": {},
   "outputs": [],
   "source": [
    "def comparing_results_prueba(start_date, end_date):\n",
    "    # Real Sales\n",
    "    real_sales = sales_data_orig[(start_date <= sales_data_orig.date) & (\n",
    "        sales_data_orig.date < end_date)]\n",
    "    # Predicted Sales\n",
    "    prediction_results = new_forcast_arima(start_date, end_date)\n",
    "    # Mean model Sales\n",
    "    mean_model = forecast_sales(start_date, end_date, sales_data_orig)\n",
    "    # Results\n",
    "    results = pd.DataFrame({'Real': real_sales.sales.sum(), \n",
    "                            'Predicted': prediction_results.predicted.sum(), \n",
    "                            'Mean_model': mean_model},\n",
    "                           columns=['Real', 'Predicted', 'Mean_model'], \n",
    "                           index=[start_date])\n",
    "    if start_date >= datetime(2020,6,1):\n",
    "        results = results[['Predicted', 'Mean_model']]\n",
    "    return results"
   ]
  },
  {
   "cell_type": "code",
   "execution_count": 306,
   "metadata": {},
   "outputs": [],
   "source": [
    "def new_calculate_new_order(order_date: datetime, lead_time_days: int, days_to_next_order: int, \n",
    "                         sales_data: pd.DataFrame, current_stock_level: int, stock_in_transit: int):\n",
    "    \n",
    "    arrival_date = order_date + timedelta(days=lead_time_days)\n",
    "    next_arrival_date = order_date + timedelta(days=days_to_next_order + lead_time_days)\n",
    "    \n",
    "    forecast_leadtime = new_forcast_arima(order_date, arrival_date)\n",
    "    estimated_stock_at_arrival = current_stock_level - forecast_leadtime + stock_in_transit \n",
    "    \n",
    "    forecast_planning_horizon = new_forcast_arima(arrival_date, next_arrival_date)\n",
    "    order = max(0,forecast_planning_horizon - estimated_stock_at_arrival)\n",
    "    return order"
   ]
  },
  {
   "cell_type": "code",
   "execution_count": 25,
   "metadata": {},
   "outputs": [
    {
     "data": {
      "text/html": [
       "<div>\n",
       "<style scoped>\n",
       "    .dataframe tbody tr th:only-of-type {\n",
       "        vertical-align: middle;\n",
       "    }\n",
       "\n",
       "    .dataframe tbody tr th {\n",
       "        vertical-align: top;\n",
       "    }\n",
       "\n",
       "    .dataframe thead th {\n",
       "        text-align: right;\n",
       "    }\n",
       "</style>\n",
       "<table border=\"1\" class=\"dataframe\">\n",
       "  <thead>\n",
       "    <tr style=\"text-align: right;\">\n",
       "      <th></th>\n",
       "      <th>Real</th>\n",
       "      <th>Predicted</th>\n",
       "      <th>Mean_model</th>\n",
       "    </tr>\n",
       "  </thead>\n",
       "  <tbody>\n",
       "    <tr>\n",
       "      <th>2020-05-01</th>\n",
       "      <td>426</td>\n",
       "      <td>370.031709</td>\n",
       "      <td>303.8</td>\n",
       "    </tr>\n",
       "  </tbody>\n",
       "</table>\n",
       "</div>"
      ],
      "text/plain": [
       "            Real   Predicted  Mean_model\n",
       "2020-05-01   426  370.031709       303.8"
      ]
     },
     "execution_count": 25,
     "metadata": {},
     "output_type": "execute_result"
    }
   ],
   "source": [
    "comparing_results_prueba(datetime(2020, 5, 1), datetime(2020, 6, 1))"
   ]
  }
 ],
 "metadata": {
  "kernelspec": {
   "display_name": "Python 3",
   "language": "python",
   "name": "python3"
  },
  "language_info": {
   "codemirror_mode": {
    "name": "ipython",
    "version": 3
   },
   "file_extension": ".py",
   "mimetype": "text/x-python",
   "name": "python",
   "nbconvert_exporter": "python",
   "pygments_lexer": "ipython3",
   "version": "3.7.6"
  }
 },
 "nbformat": 4,
 "nbformat_minor": 4
}

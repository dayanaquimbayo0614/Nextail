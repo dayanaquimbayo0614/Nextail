{
 "cells": [
  {
   "cell_type": "markdown",
   "metadata": {},
   "source": [
    "# Nextail Test "
   ]
  },
  {
   "cell_type": "code",
   "execution_count": 1,
   "metadata": {},
   "outputs": [],
   "source": [
    "#! pip install pmdarima"
   ]
  },
  {
   "cell_type": "code",
   "execution_count": 59,
   "metadata": {},
   "outputs": [],
   "source": [
    "import pandas as pd\n",
    "from numpy import log\n",
    "import datetime as dt\n",
    "from datetime import datetime,timedelta\n",
    "import matplotlib.pyplot as plt\n",
    "from pandas.plotting import autocorrelation_plot\n",
    "from statsmodels.tsa.arima.model import ARIMA\n",
    "from statsmodels.tsa.stattools import adfuller\n",
    "from pmdarima.arima import auto_arima\n",
    "from sklearn.metrics import r2_score, mean_absolute_error as mae, mean_squared_error as mse"
   ]
  },
  {
   "cell_type": "markdown",
   "metadata": {},
   "source": [
    "### Current Code:"
   ]
  },
  {
   "cell_type": "code",
   "execution_count": 3,
   "metadata": {},
   "outputs": [],
   "source": [
    "def forecast_sales(start_date: datetime, end_date: datetime, sales_data: pd.DataFrame):\n",
    "\n",
    "    days_to_forecast = (end_date - start_date).days\n",
    "    mean_daily_sales = sales_data[sales_data['date'] < start_date]['sales'].mean()\n",
    "    return mean_daily_sales * days_to_forecast"
   ]
  },
  {
   "cell_type": "code",
   "execution_count": 4,
   "metadata": {},
   "outputs": [],
   "source": [
    "def calculate_new_order (order_date: datetime, lead_time_days: int, days_to_next_order: int, \n",
    "                         sales_data: pd.DataFrame, current_stock_level: int, stock_in_transit: int):\n",
    "    \n",
    "    arrival_date = order_date + timedelta(days=lead_time_days)\n",
    "    next_arrival_date = order_date + timedelta(days=days_to_next_order + lead_time_days)\n",
    "    \n",
    "    forecast_leadtime = forecast_sales(order_date, arrival_date, sales_data)\n",
    "    estimated_stock_at_arrival = current_stock_level - forecast_leadtime + stock_in_transit \n",
    "    \n",
    "    forecast_planning_horizon = forecast_sales(arrival_date,next_arrival_date, sales_data)\n",
    "    order = max(0,forecast_planning_horizon - estimated_stock_at_arrival)\n",
    "    return order"
   ]
  },
  {
   "cell_type": "markdown",
   "metadata": {},
   "source": [
    "### Calculate Reordering\n"
   ]
  },
  {
   "cell_type": "code",
   "execution_count": 46,
   "metadata": {},
   "outputs": [],
   "source": [
    "order_date = datetime(2020,6,1)\n",
    "lead_time_days = 90\n",
    "days_to_next_order = 30\n",
    "current_stock_level = 400\n",
    "stock_in_transit = 600"
   ]
  },
  {
   "cell_type": "code",
   "execution_count": 6,
   "metadata": {},
   "outputs": [],
   "source": [
    "sales_data = pd.read_csv('sales_data.csv',parse_dates=['date'])"
   ]
  },
  {
   "cell_type": "code",
   "execution_count": 7,
   "metadata": {},
   "outputs": [
    {
     "data": {
      "text/plain": [
       "186.0598684820378"
      ]
     },
     "execution_count": 7,
     "metadata": {},
     "output_type": "execute_result"
    }
   ],
   "source": [
    "calculate_new_order (order_date=order_date, \n",
    "                   lead_time_days=lead_time_days, \n",
    "                   days_to_next_order=days_to_next_order, \n",
    "                   sales_data=sales_data, \n",
    "                   current_stock_level=current_stock_level, \n",
    "                   stock_in_transit=stock_in_transit)\n"
   ]
  },
  {
   "cell_type": "markdown",
   "metadata": {},
   "source": [
    "## Below is the improvement proposal for the problem 'Rewrite sunglasses for an online retailer' and the analysis developed to achieve it."
   ]
  },
  {
   "cell_type": "markdown",
   "metadata": {},
   "source": [
    "### Exploratory Data Analysis "
   ]
  },
  {
   "cell_type": "code",
   "execution_count": 8,
   "metadata": {},
   "outputs": [
    {
     "data": {
      "text/html": [
       "<div>\n",
       "<style scoped>\n",
       "    .dataframe tbody tr th:only-of-type {\n",
       "        vertical-align: middle;\n",
       "    }\n",
       "\n",
       "    .dataframe tbody tr th {\n",
       "        vertical-align: top;\n",
       "    }\n",
       "\n",
       "    .dataframe thead th {\n",
       "        text-align: right;\n",
       "    }\n",
       "</style>\n",
       "<table border=\"1\" class=\"dataframe\">\n",
       "  <thead>\n",
       "    <tr style=\"text-align: right;\">\n",
       "      <th></th>\n",
       "      <th>sales</th>\n",
       "    </tr>\n",
       "    <tr>\n",
       "      <th>date</th>\n",
       "      <th></th>\n",
       "    </tr>\n",
       "  </thead>\n",
       "  <tbody>\n",
       "    <tr>\n",
       "      <th>2016-06-01</th>\n",
       "      <td>12</td>\n",
       "    </tr>\n",
       "    <tr>\n",
       "      <th>2016-06-02</th>\n",
       "      <td>22</td>\n",
       "    </tr>\n",
       "    <tr>\n",
       "      <th>2016-06-03</th>\n",
       "      <td>19</td>\n",
       "    </tr>\n",
       "    <tr>\n",
       "      <th>2016-06-04</th>\n",
       "      <td>20</td>\n",
       "    </tr>\n",
       "    <tr>\n",
       "      <th>2016-06-05</th>\n",
       "      <td>5</td>\n",
       "    </tr>\n",
       "  </tbody>\n",
       "</table>\n",
       "</div>"
      ],
      "text/plain": [
       "            sales\n",
       "date             \n",
       "2016-06-01     12\n",
       "2016-06-02     22\n",
       "2016-06-03     19\n",
       "2016-06-04     20\n",
       "2016-06-05      5"
      ]
     },
     "execution_count": 8,
     "metadata": {},
     "output_type": "execute_result"
    }
   ],
   "source": [
    "sales_data = sales_data.set_index(keys = 'date')\n",
    "sales_data.head()"
   ]
  },
  {
   "cell_type": "code",
   "execution_count": 9,
   "metadata": {},
   "outputs": [
    {
     "data": {
      "image/png": "[encoded data removed]",
      "text/plain": [
       "<Figure size 432x288 with 1 Axes>"
      ]
     },
     "metadata": {
      "needs_background": "light"
     },
     "output_type": "display_data"
    }
   ],
   "source": [
    "sales_data.plot()\n",
    "plt.show()"
   ]
  },
  {
   "cell_type": "markdown",
   "metadata": {},
   "source": [
    "We can observe that there is a seasonality associated with the data. We will apply a Dickey-Fuller Test for to verify the stationarity of the series."
   ]
  },
  {
   "cell_type": "markdown",
   "metadata": {},
   "source": [
    "### Dickey-Fuller Test"
   ]
  },
  {
   "cell_type": "code",
   "execution_count": 10,
   "metadata": {},
   "outputs": [
    {
     "name": "stdout",
     "output_type": "stream",
     "text": [
      "ADF Statistic: -5.626367\n",
      "p-value: 0.000001\n",
      "Critical Values:\n",
      "\t1%: -3.435\n",
      "\t5%: -2.864\n",
      "\t10%: -2.568\n"
     ]
    }
   ],
   "source": [
    "X = sales_data.sales\n",
    "result = adfuller(X)\n",
    "print('ADF Statistic: %f' % result[0])\n",
    "print('p-value: %f' % result[1])\n",
    "print('Critical Values:')\n",
    "for key, value in result[4].items():\n",
    "    print('\\t%s: %.3f' % (key, value))"
   ]
  },
  {
   "cell_type": "markdown",
   "metadata": {},
   "source": [
    "The null hypothesis of the test is that the time series can be represented by a unit root, that it is not stationary (has some time-dependent structure). The alternate hypothesis (rejecting the null hypothesis) is that the time series is stationary. According to the results of the test, we can reject the null hypothesis, that means that the series has no unit root, and in turn that the time series is **stationary** i.e. the series doesn't have time-dependent structure."
   ]
  },
  {
   "cell_type": "markdown",
   "metadata": {},
   "source": [
    "# MODELO ARIMA"
   ]
  },
  {
   "cell_type": "markdown",
   "metadata": {},
   "source": [
    "To attempt to improve the forecast function result, and knowing that the data series is stationary, we will use an Arima model that allows us to capture the temporal structure in the data series, with which we would expect to have a better fit."
   ]
  },
  {
   "cell_type": "markdown",
   "metadata": {},
   "source": [
    "### TRAIN - TEST"
   ]
  },
  {
   "cell_type": "markdown",
   "metadata": {},
   "source": [
    "For the train-test segmentation, the model will be trained with a time window of nine months and it will be tested with the last three months of the series."
   ]
  },
  {
   "cell_type": "code",
   "execution_count": 22,
   "metadata": {},
   "outputs": [],
   "source": [
    "date0 = datetime(2019, 6, 1)\n",
    "date1 = datetime(2020, 3, 1)"
   ]
  },
  {
   "cell_type": "code",
   "execution_count": 23,
   "metadata": {},
   "outputs": [
    {
     "data": {
      "text/plain": [
       "[<matplotlib.lines.Line2D at 0x20c9c320708>]"
      ]
     },
     "execution_count": 23,
     "metadata": {},
     "output_type": "execute_result"
    },
    {
     "data": {
      "image/png": "[encoded data removed]",
      "text/plain": [
       "<Figure size 432x288 with 1 Axes>"
      ]
     },
     "metadata": {
      "needs_background": "light"
     },
     "output_type": "display_data"
    }
   ],
   "source": [
    "train = sales_data[(date0 <= sales_data.index) & (sales_data.index < date1)]\n",
    "test = sales_data[date1 <= sales_data.index]\n",
    "plt.plot(train)\n",
    "plt.plot(test)"
   ]
  },
  {
   "cell_type": "markdown",
   "metadata": {},
   "source": [
    "### Definición Modelo ARIMA"
   ]
  },
  {
   "cell_type": "markdown",
   "metadata": {},
   "source": [
    "We will use the auto_arima function to find the parameters of the model that best fit the behavior of the data."
   ]
  },
  {
   "cell_type": "code",
   "execution_count": 24,
   "metadata": {},
   "outputs": [],
   "source": [
    "stepwise_model = auto_arima(train, start_p=1, start_q=1,\n",
    "                           max_p=3, max_q=3, m=12,\n",
    "                           start_P=0, seasonal=True,\n",
    "                           d=1, D=1,\n",
    "                           error_action='ignore',  \n",
    "                           suppress_warnings=True, \n",
    "                           stepwise=True)\n"
   ]
  },
  {
   "cell_type": "code",
   "execution_count": 25,
   "metadata": {},
   "outputs": [
    {
     "data": {
      "text/html": [
       "<table class=\"simpletable\">\n",
       "<caption>SARIMAX Results</caption>\n",
       "<tr>\n",
       "  <th>Dep. Variable:</th>                  <td>y</td>                <th>  No. Observations:  </th>    <td>274</td>  \n",
       "</tr>\n",
       "<tr>\n",
       "  <th>Model:</th>           <td>SARIMAX(1, 1, 2)x(2, 1, [], 12)</td> <th>  Log Likelihood     </th> <td>-828.198</td>\n",
       "</tr>\n",
       "<tr>\n",
       "  <th>Date:</th>                   <td>Sun, 07 Feb 2021</td>         <th>  AIC                </th> <td>1668.396</td>\n",
       "</tr>\n",
       "<tr>\n",
       "  <th>Time:</th>                       <td>10:55:33</td>             <th>  BIC                </th> <td>1689.783</td>\n",
       "</tr>\n",
       "<tr>\n",
       "  <th>Sample:</th>                         <td>0</td>                <th>  HQIC               </th> <td>1676.993</td>\n",
       "</tr>\n",
       "<tr>\n",
       "  <th></th>                             <td> - 274</td>              <th>                     </th>     <td> </td>   \n",
       "</tr>\n",
       "<tr>\n",
       "  <th>Covariance Type:</th>               <td>opg</td>               <th>                     </th>     <td> </td>   \n",
       "</tr>\n",
       "</table>\n",
       "<table class=\"simpletable\">\n",
       "<tr>\n",
       "      <td></td>        <th>coef</th>     <th>std err</th>      <th>z</th>      <th>P>|z|</th>  <th>[0.025</th>    <th>0.975]</th>  \n",
       "</tr>\n",
       "<tr>\n",
       "  <th>ar.L1</th>    <td>    0.7875</td> <td>    0.084</td> <td>    9.405</td> <td> 0.000</td> <td>    0.623</td> <td>    0.952</td>\n",
       "</tr>\n",
       "<tr>\n",
       "  <th>ma.L1</th>    <td>   -1.7683</td> <td>    0.075</td> <td>  -23.657</td> <td> 0.000</td> <td>   -1.915</td> <td>   -1.622</td>\n",
       "</tr>\n",
       "<tr>\n",
       "  <th>ma.L2</th>    <td>    0.8223</td> <td>    0.064</td> <td>   12.798</td> <td> 0.000</td> <td>    0.696</td> <td>    0.948</td>\n",
       "</tr>\n",
       "<tr>\n",
       "  <th>ar.S.L12</th> <td>   -0.7832</td> <td>    0.073</td> <td>  -10.703</td> <td> 0.000</td> <td>   -0.927</td> <td>   -0.640</td>\n",
       "</tr>\n",
       "<tr>\n",
       "  <th>ar.S.L24</th> <td>   -0.3454</td> <td>    0.067</td> <td>   -5.168</td> <td> 0.000</td> <td>   -0.476</td> <td>   -0.214</td>\n",
       "</tr>\n",
       "<tr>\n",
       "  <th>sigma2</th>   <td>   32.2843</td> <td>    2.551</td> <td>   12.656</td> <td> 0.000</td> <td>   27.284</td> <td>   37.284</td>\n",
       "</tr>\n",
       "</table>\n",
       "<table class=\"simpletable\">\n",
       "<tr>\n",
       "  <th>Ljung-Box (Q):</th>          <td>403.65</td> <th>  Jarque-Bera (JB):  </th> <td>15.53</td>\n",
       "</tr>\n",
       "<tr>\n",
       "  <th>Prob(Q):</th>                 <td>0.00</td>  <th>  Prob(JB):          </th> <td>0.00</td> \n",
       "</tr>\n",
       "<tr>\n",
       "  <th>Heteroskedasticity (H):</th>  <td>1.44</td>  <th>  Skew:              </th> <td>-0.52</td>\n",
       "</tr>\n",
       "<tr>\n",
       "  <th>Prob(H) (two-sided):</th>     <td>0.09</td>  <th>  Kurtosis:          </th> <td>3.58</td> \n",
       "</tr>\n",
       "</table><br/><br/>Warnings:<br/>[1] Covariance matrix calculated using the outer product of gradients (complex-step)."
      ],
      "text/plain": [
       "<class 'statsmodels.iolib.summary.Summary'>\n",
       "\"\"\"\n",
       "                                      SARIMAX Results                                      \n",
       "===========================================================================================\n",
       "Dep. Variable:                                   y   No. Observations:                  274\n",
       "Model:             SARIMAX(1, 1, 2)x(2, 1, [], 12)   Log Likelihood                -828.198\n",
       "Date:                             Sun, 07 Feb 2021   AIC                           1668.396\n",
       "Time:                                     10:55:33   BIC                           1689.783\n",
       "Sample:                                          0   HQIC                          1676.993\n",
       "                                             - 274                                         \n",
       "Covariance Type:                               opg                                         \n",
       "==============================================================================\n",
       "                 coef    std err          z      P>|z|      [0.025      0.975]\n",
       "------------------------------------------------------------------------------\n",
       "ar.L1          0.7875      0.084      9.405      0.000       0.623       0.952\n",
       "ma.L1         -1.7683      0.075    -23.657      0.000      -1.915      -1.622\n",
       "ma.L2          0.8223      0.064     12.798      0.000       0.696       0.948\n",
       "ar.S.L12      -0.7832      0.073    -10.703      0.000      -0.927      -0.640\n",
       "ar.S.L24      -0.3454      0.067     -5.168      0.000      -0.476      -0.214\n",
       "sigma2        32.2843      2.551     12.656      0.000      27.284      37.284\n",
       "===================================================================================\n",
       "Ljung-Box (Q):                      403.65   Jarque-Bera (JB):                15.53\n",
       "Prob(Q):                              0.00   Prob(JB):                         0.00\n",
       "Heteroskedasticity (H):               1.44   Skew:                            -0.52\n",
       "Prob(H) (two-sided):                  0.09   Kurtosis:                         3.58\n",
       "===================================================================================\n",
       "\n",
       "Warnings:\n",
       "[1] Covariance matrix calculated using the outer product of gradients (complex-step).\n",
       "\"\"\""
      ]
     },
     "execution_count": 25,
     "metadata": {},
     "output_type": "execute_result"
    }
   ],
   "source": [
    "stepwise_model.summary()"
   ]
  },
  {
   "cell_type": "markdown",
   "metadata": {},
   "source": [
    "### Prediction"
   ]
  },
  {
   "cell_type": "code",
   "execution_count": 26,
   "metadata": {},
   "outputs": [],
   "source": [
    "prediction_model = pd.DataFrame(stepwise_model.predict(n_periods = test.shape[0]), index = test.index, columns = ['predicted'])"
   ]
  },
  {
   "cell_type": "code",
   "execution_count": 27,
   "metadata": {},
   "outputs": [
    {
     "name": "stderr",
     "output_type": "stream",
     "text": [
      "C:\\Users\\dayan\\anaconda3\\lib\\site-packages\\ipykernel_launcher.py:5: MatplotlibDeprecationWarning: Unrecognized location 'Left corner'. Falling back on 'best'; valid locations are\n",
      "\tbest\n",
      "\tupper right\n",
      "\tupper left\n",
      "\tlower left\n",
      "\tlower right\n",
      "\tright\n",
      "\tcenter left\n",
      "\tcenter right\n",
      "\tlower center\n",
      "\tupper center\n",
      "\tcenter\n",
      "This will raise an exception in 3.3.\n",
      "  \"\"\"\n"
     ]
    },
    {
     "data": {
      "image/png": "[encoded data removed]",
      "text/plain": [
       "<Figure size 576x360 with 1 Axes>"
      ]
     },
     "metadata": {
      "needs_background": "light"
     },
     "output_type": "display_data"
    }
   ],
   "source": [
    "plt.figure(figsize = (8,5))\n",
    "plt.plot(train, label = 'Training')\n",
    "plt.plot(test, label = 'Test')\n",
    "plt.plot(prediction_model, label = 'Predicted Values')\n",
    "plt.legend(loc = 'Left corner')\n",
    "plt.show()"
   ]
  },
  {
   "cell_type": "markdown",
   "metadata": {},
   "source": [
    "### Metric"
   ]
  },
  {
   "cell_type": "code",
   "execution_count": 63,
   "metadata": {
    "scrolled": true
   },
   "outputs": [
    {
     "name": "stdout",
     "output_type": "stream",
     "text": [
      "MAE:  4.029948212777635\n",
      "MSE:  24.027445689607582\n",
      "RMSE:  4.901779849157608\n"
     ]
    },
    {
     "name": "stderr",
     "output_type": "stream",
     "text": [
      "C:\\Users\\dayan\\anaconda3\\lib\\site-packages\\ipykernel_launcher.py:1: SettingWithCopyWarning: \n",
      "A value is trying to be set on a copy of a slice from a DataFrame.\n",
      "Try using .loc[row_indexer,col_indexer] = value instead\n",
      "\n",
      "See the caveats in the documentation: https://pandas.pydata.org/pandas-docs/stable/user_guide/indexing.html#returning-a-view-versus-a-copy\n",
      "  \"\"\"Entry point for launching an IPython kernel.\n"
     ]
    }
   ],
   "source": [
    "test['predicted_sales'] = prediction_model\n",
    "print('MAE: ',mae(test['sales'], test['predicted_sales']))\n",
    "print('MSE: ',mse(test['sales'], test['predicted_sales']))\n",
    "print('RMSE: ', mse(test['sales'], test['predicted_sales'])**(0.5))"
   ]
  },
  {
   "cell_type": "markdown",
   "metadata": {},
   "source": [
    "# Comparing Results"
   ]
  },
  {
   "cell_type": "markdown",
   "metadata": {},
   "source": [
    "Once the arima model has been chosen, the results of the model, the forecast function and the real data in the months that were taken in the set of trains will be compared, this to evaluate if the arima model really improves the prediction."
   ]
  },
  {
   "cell_type": "code",
   "execution_count": 29,
   "metadata": {},
   "outputs": [],
   "source": [
    "sales_data_orig = pd.read_csv('sales_data.csv',parse_dates=['date'])"
   ]
  },
  {
   "cell_type": "code",
   "execution_count": 30,
   "metadata": {},
   "outputs": [],
   "source": [
    "def comparing_results(start_date, end_date, prediction_data):\n",
    "    # Real Sales\n",
    "    real_sales = sales_data_orig[(start_date <= sales_data_orig.date) & (\n",
    "        sales_data_orig.date < end_date)]\n",
    "    # Mean model Sales\n",
    "    mean_model = forecast_sales(start_date, end_date, sales_data_orig)\n",
    "    # Results\n",
    "    results = pd.DataFrame({'Real': real_sales.sales.sum(),\n",
    "                            'Predicted': prediction_data,\n",
    "                            'Mean_model': mean_model},\n",
    "                           columns=['Real', 'Predicted', 'Mean_model'],\n",
    "                           index=[start_date])\n",
    "    if start_date >= datetime(2020, 6, 1):\n",
    "        results = results[['Predicted', 'Mean_model']]\n",
    "    return results"
   ]
  },
  {
   "cell_type": "markdown",
   "metadata": {},
   "source": [
    "### 1. Test Months"
   ]
  },
  {
   "cell_type": "code",
   "execution_count": 31,
   "metadata": {},
   "outputs": [
    {
     "data": {
      "text/html": [
       "<div>\n",
       "<style scoped>\n",
       "    .dataframe tbody tr th:only-of-type {\n",
       "        vertical-align: middle;\n",
       "    }\n",
       "\n",
       "    .dataframe tbody tr th {\n",
       "        vertical-align: top;\n",
       "    }\n",
       "\n",
       "    .dataframe thead th {\n",
       "        text-align: right;\n",
       "    }\n",
       "</style>\n",
       "<table border=\"1\" class=\"dataframe\">\n",
       "  <thead>\n",
       "    <tr style=\"text-align: right;\">\n",
       "      <th></th>\n",
       "      <th>Real</th>\n",
       "      <th>Predicted</th>\n",
       "      <th>Mean_model</th>\n",
       "    </tr>\n",
       "  </thead>\n",
       "  <tbody>\n",
       "    <tr>\n",
       "      <th>2020-03-01</th>\n",
       "      <td>261</td>\n",
       "      <td>255.5126</td>\n",
       "      <td>305.108839</td>\n",
       "    </tr>\n",
       "  </tbody>\n",
       "</table>\n",
       "</div>"
      ],
      "text/plain": [
       "            Real  Predicted  Mean_model\n",
       "2020-03-01   261   255.5126  305.108839"
      ]
     },
     "execution_count": 31,
     "metadata": {},
     "output_type": "execute_result"
    }
   ],
   "source": [
    "prediction_value = prediction_model[(datetime(2020, 3, 1) <= prediction_model.index) & (\n",
    "        prediction_model.index < datetime(2020, 4, 1))].predicted.sum()\n",
    "comparing_results(datetime(2020, 3, 1), datetime(2020, 4, 1), prediction_value)"
   ]
  },
  {
   "cell_type": "code",
   "execution_count": 33,
   "metadata": {},
   "outputs": [
    {
     "data": {
      "text/html": [
       "<div>\n",
       "<style scoped>\n",
       "    .dataframe tbody tr th:only-of-type {\n",
       "        vertical-align: middle;\n",
       "    }\n",
       "\n",
       "    .dataframe tbody tr th {\n",
       "        vertical-align: top;\n",
       "    }\n",
       "\n",
       "    .dataframe thead th {\n",
       "        text-align: right;\n",
       "    }\n",
       "</style>\n",
       "<table border=\"1\" class=\"dataframe\">\n",
       "  <thead>\n",
       "    <tr style=\"text-align: right;\">\n",
       "      <th></th>\n",
       "      <th>Real</th>\n",
       "      <th>Predicted</th>\n",
       "      <th>Mean_model</th>\n",
       "    </tr>\n",
       "  </thead>\n",
       "  <tbody>\n",
       "    <tr>\n",
       "      <th>2020-04-01</th>\n",
       "      <td>705</td>\n",
       "      <td>739.280328</td>\n",
       "      <td>598.453571</td>\n",
       "    </tr>\n",
       "  </tbody>\n",
       "</table>\n",
       "</div>"
      ],
      "text/plain": [
       "            Real   Predicted  Mean_model\n",
       "2020-04-01   705  739.280328  598.453571"
      ]
     },
     "execution_count": 33,
     "metadata": {},
     "output_type": "execute_result"
    }
   ],
   "source": [
    "prediction_value = prediction_model[(datetime(2020, 4, 1) <= prediction_model.index) & (\n",
    "        prediction_model.index < datetime(2020, 6, 1))].predicted.sum()\n",
    "comparing_results(datetime(2020, 4, 1), datetime(2020, 6, 1), prediction_value)"
   ]
  },
  {
   "cell_type": "code",
   "execution_count": 32,
   "metadata": {},
   "outputs": [
    {
     "data": {
      "text/html": [
       "<div>\n",
       "<style scoped>\n",
       "    .dataframe tbody tr th:only-of-type {\n",
       "        vertical-align: middle;\n",
       "    }\n",
       "\n",
       "    .dataframe tbody tr th {\n",
       "        vertical-align: top;\n",
       "    }\n",
       "\n",
       "    .dataframe thead th {\n",
       "        text-align: right;\n",
       "    }\n",
       "</style>\n",
       "<table border=\"1\" class=\"dataframe\">\n",
       "  <thead>\n",
       "    <tr style=\"text-align: right;\">\n",
       "      <th></th>\n",
       "      <th>Real</th>\n",
       "      <th>Predicted</th>\n",
       "      <th>Mean_model</th>\n",
       "    </tr>\n",
       "  </thead>\n",
       "  <tbody>\n",
       "    <tr>\n",
       "      <th>2020-05-01</th>\n",
       "      <td>426</td>\n",
       "      <td>406.404228</td>\n",
       "      <td>303.8</td>\n",
       "    </tr>\n",
       "  </tbody>\n",
       "</table>\n",
       "</div>"
      ],
      "text/plain": [
       "            Real   Predicted  Mean_model\n",
       "2020-05-01   426  406.404228       303.8"
      ]
     },
     "execution_count": 32,
     "metadata": {},
     "output_type": "execute_result"
    }
   ],
   "source": [
    "prediction_value = prediction_model[(datetime(2020, 5, 1) <= prediction_model.index) & (\n",
    "        prediction_model.index < datetime(2020, 6, 1))].predicted.sum()\n",
    "comparing_results(datetime(2020, 5, 1), datetime(2020, 6, 1), prediction_value)"
   ]
  },
  {
   "cell_type": "markdown",
   "metadata": {},
   "source": [
    "### 2. Calculate New Reorder"
   ]
  },
  {
   "cell_type": "markdown",
   "metadata": {},
   "source": [
    "With the previous results we can see that the model is a good option to improve the problem. Now we will recalculate the order for the next month."
   ]
  },
  {
   "cell_type": "code",
   "execution_count": 64,
   "metadata": {},
   "outputs": [],
   "source": [
    "def new_forcast_arima(date1, date2):\n",
    "    total_days = (date2- datetime(2020, 6, 1)).days\n",
    "    dates_prediction = [datetime(2020, 6, 1) + timedelta(days=i) for i in range(total_days)]\n",
    "    prediction_values = pd.DataFrame(stepwise_model.predict(n_periods=len(\n",
    "        dates_prediction)), index=dates_prediction, columns=['predicted'])\n",
    "    prediction_values = prediction_values[(date1<= prediction_values.index)\n",
    "                                          & (prediction_values.index < date2)]\n",
    "    prediction_total = prediction_values.predicted.sum()\n",
    "    return prediction_total\n",
    "\n",
    "def new_calculate_new_order(order_date: datetime, lead_time_days: int, days_to_next_order: int, \n",
    "                         sales_data: pd.DataFrame, current_stock_level: int, stock_in_transit: int):\n",
    "    \n",
    "    arrival_date = order_date + timedelta(days=lead_time_days)\n",
    "    next_arrival_date = order_date + timedelta(days=days_to_next_order + lead_time_days)\n",
    "    \n",
    "    forecast_leadtime = new_forcast_arima(order_date, arrival_date)\n",
    "    estimated_stock_at_arrival = current_stock_level - forecast_leadtime + stock_in_transit \n",
    "    \n",
    "    forecast_planning_horizon = new_forcast_arima(arrival_date, next_arrival_date)\n",
    "    order = max(0,forecast_planning_horizon - estimated_stock_at_arrival)\n",
    "    return order"
   ]
  },
  {
   "cell_type": "markdown",
   "metadata": {},
   "source": [
    "First we see what the sales forecast would be for the following month with the two functions."
   ]
  },
  {
   "cell_type": "code",
   "execution_count": 65,
   "metadata": {},
   "outputs": [
    {
     "data": {
      "text/html": [
       "<div>\n",
       "<style scoped>\n",
       "    .dataframe tbody tr th:only-of-type {\n",
       "        vertical-align: middle;\n",
       "    }\n",
       "\n",
       "    .dataframe tbody tr th {\n",
       "        vertical-align: top;\n",
       "    }\n",
       "\n",
       "    .dataframe thead th {\n",
       "        text-align: right;\n",
       "    }\n",
       "</style>\n",
       "<table border=\"1\" class=\"dataframe\">\n",
       "  <thead>\n",
       "    <tr style=\"text-align: right;\">\n",
       "      <th></th>\n",
       "      <th>Predicted</th>\n",
       "      <th>Mean_model</th>\n",
       "    </tr>\n",
       "  </thead>\n",
       "  <tbody>\n",
       "    <tr>\n",
       "      <th>2020-06-01</th>\n",
       "      <td>245.652361</td>\n",
       "      <td>296.50924</td>\n",
       "    </tr>\n",
       "  </tbody>\n",
       "</table>\n",
       "</div>"
      ],
      "text/plain": [
       "             Predicted  Mean_model\n",
       "2020-06-01  245.652361   296.50924"
      ]
     },
     "execution_count": 65,
     "metadata": {},
     "output_type": "execute_result"
    }
   ],
   "source": [
    "prediction_values1 = new_forcast_arima(datetime(2020, 6, 1), datetime(2020, 7, 1))\n",
    "comparing_results(datetime(2020, 6, 1), datetime(2020, 7, 1), prediction_values1)"
   ]
  },
  {
   "cell_type": "code",
   "execution_count": 66,
   "metadata": {},
   "outputs": [
    {
     "data": {
      "text/plain": [
       "439.16651307489605"
      ]
     },
     "execution_count": 66,
     "metadata": {},
     "output_type": "execute_result"
    }
   ],
   "source": [
    "new_calculate_new_order (order_date=order_date, \n",
    "                   lead_time_days=lead_time_days, \n",
    "                   days_to_next_order=days_to_next_order, \n",
    "                   sales_data=sales_data, \n",
    "                   current_stock_level=current_stock_level, \n",
    "                   stock_in_transit=stock_in_transit)"
   ]
  },
  {
   "cell_type": "markdown",
   "metadata": {},
   "source": [
    "With this we obtain that the amount of sunglasses that we should order for the next month is 439.16"
   ]
  },
  {
   "cell_type": "markdown",
   "metadata": {},
   "source": [
    "### Backtest"
   ]
  },
  {
   "cell_type": "markdown",
   "metadata": {},
   "source": [
    "A small backtest analysis was carried out to see if the model had good performance in the previous months and thus see its performance."
   ]
  },
  {
   "cell_type": "code",
   "execution_count": 54,
   "metadata": {},
   "outputs": [],
   "source": [
    "def backtest_arima(date1, date2):\n",
    "    date0 = date1 - timedelta(days=(date2-date1).days*3)\n",
    "    train = sales_data[(date0 <= sales_data.index)\n",
    "               & (sales_data.index < date1)]\n",
    "    test = sales_data[(date1 <= sales_data.index)\n",
    "               & (sales_data.index < date2)]\n",
    "    model_backtest = auto_arima(train, start_p=1, start_q=1,\n",
    "                                max_p=3, max_q=3, m=12,\n",
    "                                start_P=0, seasonal=True,\n",
    "                                d=1, D=1,\n",
    "                                error_action='ignore',\n",
    "                                suppress_warnings=True,\n",
    "                                stepwise=True,\n",
    "                               return_valid_fits = False)\n",
    "    prediction = pd.DataFrame(model_backtest.predict(\n",
    "        n_periods=test.shape[0]), index=test.index, columns=['predicted'])\n",
    "    prediction_value = prediction.predicted.sum()\n",
    "    return prediction_value"
   ]
  },
  {
   "cell_type": "code",
   "execution_count": 55,
   "metadata": {},
   "outputs": [],
   "source": [
    "prediction_backtest = backtest_arima(datetime(2018, 12, 1), datetime(2019, 1, 1))"
   ]
  },
  {
   "cell_type": "code",
   "execution_count": 57,
   "metadata": {},
   "outputs": [
    {
     "data": {
      "text/html": [
       "<div>\n",
       "<style scoped>\n",
       "    .dataframe tbody tr th:only-of-type {\n",
       "        vertical-align: middle;\n",
       "    }\n",
       "\n",
       "    .dataframe tbody tr th {\n",
       "        vertical-align: top;\n",
       "    }\n",
       "\n",
       "    .dataframe thead th {\n",
       "        text-align: right;\n",
       "    }\n",
       "</style>\n",
       "<table border=\"1\" class=\"dataframe\">\n",
       "  <thead>\n",
       "    <tr style=\"text-align: right;\">\n",
       "      <th></th>\n",
       "      <th>Real</th>\n",
       "      <th>Predicted</th>\n",
       "      <th>Mean_model</th>\n",
       "    </tr>\n",
       "  </thead>\n",
       "  <tbody>\n",
       "    <tr>\n",
       "      <th>2018-12-01</th>\n",
       "      <td>580</td>\n",
       "      <td>434.392518</td>\n",
       "      <td>298.761227</td>\n",
       "    </tr>\n",
       "  </tbody>\n",
       "</table>\n",
       "</div>"
      ],
      "text/plain": [
       "            Real   Predicted  Mean_model\n",
       "2018-12-01   580  434.392518  298.761227"
      ]
     },
     "execution_count": 57,
     "metadata": {},
     "output_type": "execute_result"
    }
   ],
   "source": [
    "comparing_results(datetime(2018, 12, 1), datetime(2019, 1, 1), prediction_backtest)"
   ]
  },
  {
   "cell_type": "markdown",
   "metadata": {},
   "source": [
    "# Conclusion and Future Work"
   ]
  },
  {
   "cell_type": "markdown",
   "metadata": {},
   "source": [
    "For the correct development and implementation of the model, these points could be considered:\n",
    "\n",
    "- Do a test-train-validation division in more detail, taking into account the temporal structure of the data, that is, generating the sets in chronological order and varying their size.\n",
    "- The data could be grouped by month and the analysis made with this approach, it could be seen if in this way it is possible to take into account a greater temporality.\n",
    "- In the analysis, an approach was made to the backtest by means of the following function, this analysis could be done in greater detail so that it can provide us with more data to our model.\n",
    "- The parameter of the arima model could be chosen with a more detailed analysis with the corresponding correlation graph."
   ]
  }
 ],
 "metadata": {
  "kernelspec": {
   "display_name": "Python 3",
   "language": "python",
   "name": "python3"
  },
  "language_info": {
   "codemirror_mode": {
    "name": "ipython",
    "version": 3
   },
   "file_extension": ".py",
   "mimetype": "text/x-python",
   "name": "python",
   "nbconvert_exporter": "python",
   "pygments_lexer": "ipython3",
   "version": "3.7.6"
  }
 },
 "nbformat": 4,
 "nbformat_minor": 4
}
